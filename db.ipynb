{
 "cells": [
  {
   "cell_type": "code",
   "execution_count": null,
   "metadata": {},
   "outputs": [],
   "source": []
  },
  {
   "attachments": {},
   "cell_type": "markdown",
   "metadata": {},
   "source": [
    "# Experiments with the database"
   ]
  },
  {
   "cell_type": "code",
   "execution_count": 1,
   "metadata": {},
   "outputs": [
    {
     "name": "stdout",
     "output_type": "stream",
     "text": [
      "DATABASE: hnxcthhg USER: hnxcthhg PASSWORD: bOsb-0bAVug2y4W9BA75Dg7iT4U80TMZ HOST: tiny.db.elephantsql.com PORT: None\n"
     ]
    }
   ],
   "source": [
    "from DB import db, queries\n"
   ]
  },
  {
   "cell_type": "code",
   "execution_count": 2,
   "metadata": {},
   "outputs": [
    {
     "name": "stdout",
     "output_type": "stream",
     "text": [
      "Opened database successfully\n"
     ]
    }
   ],
   "source": [
    "conn = db.cheapifydb_Connect()"
   ]
  },
  {
   "cell_type": "code",
   "execution_count": 3,
   "metadata": {},
   "outputs": [
    {
     "name": "stdout",
     "output_type": "stream",
     "text": [
      "Cursor generated\n",
      "relation \"Product\" already exists\n",
      "\n"
     ]
    }
   ],
   "source": [
    "data = db.fetch(conn, queries.create_tables)"
   ]
  },
  {
   "cell_type": "code",
   "execution_count": 4,
   "metadata": {},
   "outputs": [
    {
     "name": "stdout",
     "output_type": "stream",
     "text": [
      "Cursor generated\n",
      "current transaction is aborted, commands ignored until end of transaction block\n",
      "\n"
     ]
    }
   ],
   "source": [
    "db.execute(conn, queries.create_tables)"
   ]
  },
  {
   "cell_type": "code",
   "execution_count": 32,
   "metadata": {},
   "outputs": [
    {
     "name": "stdout",
     "output_type": "stream",
     "text": [
      "Cursor generated\n",
      "syntax error at or near \":\"\n",
      "LINE 1: ...com/images/I/31qeR3U2bdL._SX342_SY445_.jpg', https://www.ama...\n",
      "                                                             ^\n",
      "\n"
     ]
    }
   ],
   "source": [
    "db.execute(conn, queries.insert_product.format(1,\"Apple iPhone 14 Pro Max 128GB\",\"17.00 cm (6.7-inch) Super Retina XDR display\",\"amazon.in\",\"https://m.media-amazon.com/images/I/31qeR3U2bdL._SX342_SY445_.jpg\",\"https://www.amazon.in/Apple-iPhone-256GB-Deep-Purple/dp/B0BDK2FB2T/ref=asc_df_B0BDK2FB2T/\"))"
   ]
  },
  {
   "cell_type": "code",
   "execution_count": 34,
   "metadata": {},
   "outputs": [
    {
     "name": "stdout",
     "output_type": "stream",
     "text": [
      "Cursor generated\n",
      "current transaction is aborted, commands ignored until end of transaction block\n",
      "\n"
     ]
    }
   ],
   "source": [
    "data=db.fetch(conn, \"SELECT * FROM Product\")"
   ]
  },
  {
   "cell_type": "code",
   "execution_count": 35,
   "metadata": {},
   "outputs": [],
   "source": [
    "from autoscraper import AutoScraper\n"
   ]
  },
  {
   "cell_type": "code",
   "execution_count": 8,
   "metadata": {},
   "outputs": [],
   "source": [
    "tag = 'mobile phones'\n"
   ]
  },
  {
   "cell_type": "code",
   "execution_count": 9,
   "metadata": {},
   "outputs": [],
   "source": [
    "url = 'https://www.amazon.in/s?k=iphones'"
   ]
  },
  {
   "cell_type": "code",
   "execution_count": 10,
   "metadata": {},
   "outputs": [],
   "source": [
    "wanted_list = [\"Apple iPhone 13 (128GB) - Starlight\", \"https://www.amazon.in/Apple-iPhone-13-128GB-Starlight/dp/B09G9D8KRQ/\", \"https://m.media-amazon.com/images/I/71GLMJ7TQiL._SX679_.jpg\", '61,499']\n"
   ]
  },
  {
   "cell_type": "code",
   "execution_count": 33,
   "metadata": {},
   "outputs": [
    {
     "ename": "NameError",
     "evalue": "name 'AutoScraper' is not defined",
     "output_type": "error",
     "traceback": [
      "\u001b[1;31m---------------------------------------------------------------------------\u001b[0m",
      "\u001b[1;31mNameError\u001b[0m                                 Traceback (most recent call last)",
      "Cell \u001b[1;32mIn[33], line 1\u001b[0m\n\u001b[1;32m----> 1\u001b[0m scraper \u001b[39m=\u001b[39m AutoScraper()\n\u001b[0;32m      2\u001b[0m result \u001b[39m=\u001b[39m scraper\u001b[39m.\u001b[39mbuild(url, wanted_list)\n\u001b[0;32m      3\u001b[0m \u001b[39mprint\u001b[39m(result)\n",
      "\u001b[1;31mNameError\u001b[0m: name 'AutoScraper' is not defined"
     ]
    }
   ],
   "source": [
    "scraper = AutoScraper()\n",
    "result = scraper.build(url, wanted_list)\n",
    "print(result)\n"
   ]
  },
  {
   "cell_type": "code",
   "execution_count": 12,
   "metadata": {},
   "outputs": [
    {
     "data": {
      "text/plain": [
       "{'rule_r1jt': ['Apple iPhone 14 128GB (Product) RED',\n",
       "  'Apple iPhone 14 Pro 128GB Space Black',\n",
       "  'A-PPLE - 6 (64GB) with 8 Mage Pixel Camera Gold',\n",
       "  'Apple iPhone 12 (64GB) - Blue',\n",
       "  'Apple iPhone 13 (128GB) - Midnight',\n",
       "  'Apple iPhone 13 (128GB) - Blue',\n",
       "  'Apple iPhone 12 (64GB) - Black',\n",
       "  'Apple iPhone 12 (64GB) - Purple',\n",
       "  'Apple iPhone 13 (128GB) - Starlight',\n",
       "  'Apple iPhone 12 (128GB) - Blue',\n",
       "  'Apple iPhone 14 Pro Max 256GB Gold',\n",
       "  'Apple iPhone 12 (256GB) - Purple',\n",
       "  'Apple iPhone 12 (128GB) - Black',\n",
       "  'Apple iPhone 14 Pro 128GB Gold',\n",
       "  'Apple iPhone 12 (64GB) - Green',\n",
       "  'Apple iPhone 14 Plus 128GB Purple'],\n",
       " 'rule_hp11': ['Apple iPhone 14 128GB (Product) RED',\n",
       "  'Apple iPhone 14 Pro 128GB Space Black',\n",
       "  'A-PPLE - 6 (64GB) with 8 Mage Pixel Camera Gold',\n",
       "  'Apple iPhone 12 (64GB) - Blue',\n",
       "  'Apple iPhone 13 (128GB) - Midnight',\n",
       "  'Apple iPhone 13 (128GB) - Blue',\n",
       "  'Apple iPhone 12 (64GB) - Black',\n",
       "  'Apple iPhone 12 (64GB) - Purple',\n",
       "  'Apple iPhone 13 (128GB) - Starlight',\n",
       "  'Apple iPhone 12 (128GB) - Blue',\n",
       "  'Apple iPhone 14 Pro Max 256GB Gold',\n",
       "  'Apple iPhone 12 (256GB) - Purple',\n",
       "  'Apple iPhone 12 (128GB) - Black',\n",
       "  'Apple iPhone 14 Pro 128GB Gold',\n",
       "  'Apple iPhone 12 (64GB) - Green',\n",
       "  'Apple iPhone 14 Plus 128GB Purple'],\n",
       " 'rule_p91g': ['Apple iPhone 13 (128GB) - Starlight',\n",
       "  'Apple iPhone 13 Mini (128GB) - Midnight'],\n",
       " 'rule_sg2w': ['71,999',\n",
       "  '1,22,999',\n",
       "  '18,499',\n",
       "  '50,900',\n",
       "  '61,499',\n",
       "  '61,499',\n",
       "  '50,900',\n",
       "  '50,900',\n",
       "  '61,499',\n",
       "  '1,49,900',\n",
       "  '74,900',\n",
       "  '54,900',\n",
       "  '1,22,999',\n",
       "  '50,900',\n",
       "  '79,999'],\n",
       " 'rule_2fq8': ['71,999',\n",
       "  '1,22,999',\n",
       "  '18,499',\n",
       "  '50,900',\n",
       "  '61,499',\n",
       "  '61,499',\n",
       "  '50,900',\n",
       "  '50,900',\n",
       "  '61,499',\n",
       "  '1,49,900',\n",
       "  '74,900',\n",
       "  '54,900',\n",
       "  '1,22,999',\n",
       "  '50,900',\n",
       "  '79,999'],\n",
       " 'rule_15ce': ['71,999',\n",
       "  '1,22,999',\n",
       "  '18,499',\n",
       "  '50,900',\n",
       "  '61,499',\n",
       "  '61,499',\n",
       "  '50,900',\n",
       "  '50,900',\n",
       "  '61,499',\n",
       "  '1,49,900',\n",
       "  '74,900',\n",
       "  '54,900',\n",
       "  '1,22,999',\n",
       "  '50,900',\n",
       "  '79,999'],\n",
       " 'rule_vzox': ['61,499', '64,900'],\n",
       " 'rule_xfk1': ['61,499']}"
      ]
     },
     "execution_count": 12,
     "metadata": {},
     "output_type": "execute_result"
    }
   ],
   "source": [
    "scraper.get_result_similar(url, grouped=True)"
   ]
  },
  {
   "cell_type": "code",
   "execution_count": 14,
   "metadata": {},
   "outputs": [
    {
     "name": "stdout",
     "output_type": "stream",
     "text": [
      "Collecting scrapy\n",
      "  Using cached Scrapy-2.8.0-py2.py3-none-any.whl (272 kB)\n",
      "Collecting Twisted>=18.9.0\n",
      "  Using cached Twisted-22.10.0-py3-none-any.whl (3.1 MB)\n",
      "Collecting cryptography>=3.4.6\n",
      "  Using cached cryptography-39.0.2-cp36-abi3-win_amd64.whl (2.5 MB)\n",
      "Requirement already satisfied: cssselect>=0.9.1 in c:\\users\\mashh\\appdata\\local\\programs\\python\\python311\\lib\\site-packages (from scrapy) (1.2.0)\n",
      "Collecting itemloaders>=1.0.1\n",
      "  Using cached itemloaders-1.0.6-py3-none-any.whl (11 kB)\n",
      "Collecting parsel>=1.5.0\n",
      "  Using cached parsel-1.7.0-py2.py3-none-any.whl (14 kB)\n",
      "Collecting pyOpenSSL>=21.0.0\n",
      "  Using cached pyOpenSSL-23.0.0-py3-none-any.whl (57 kB)\n",
      "Collecting queuelib>=1.4.2\n",
      "  Using cached queuelib-1.6.2-py2.py3-none-any.whl (13 kB)\n",
      "Collecting service-identity>=18.1.0\n",
      "  Using cached service_identity-21.1.0-py2.py3-none-any.whl (12 kB)\n",
      "Collecting w3lib>=1.17.0\n",
      "  Using cached w3lib-2.1.1-py3-none-any.whl (21 kB)\n",
      "Collecting zope.interface>=5.1.0\n",
      "  Using cached zope.interface-5.5.2-cp311-cp311-win_amd64.whl (211 kB)\n",
      "Collecting protego>=0.1.15\n",
      "  Using cached Protego-0.2.1-py2.py3-none-any.whl (8.2 kB)\n",
      "Collecting itemadapter>=0.1.0\n",
      "  Using cached itemadapter-0.7.0-py3-none-any.whl (10 kB)\n",
      "Requirement already satisfied: setuptools in c:\\users\\mashh\\appdata\\local\\programs\\python\\python311\\lib\\site-packages (from scrapy) (65.5.0)\n",
      "Requirement already satisfied: packaging in c:\\users\\mashh\\appdata\\roaming\\python\\python311\\site-packages (from scrapy) (22.0)\n",
      "Requirement already satisfied: tldextract in c:\\users\\mashh\\appdata\\local\\programs\\python\\python311\\lib\\site-packages (from scrapy) (3.4.0)\n",
      "Requirement already satisfied: lxml>=4.3.0 in c:\\users\\mashh\\appdata\\local\\programs\\python\\python311\\lib\\site-packages (from scrapy) (4.9.2)\n",
      "Collecting PyDispatcher>=2.0.5\n",
      "  Using cached PyDispatcher-2.0.7-py3-none-any.whl (12 kB)\n",
      "Requirement already satisfied: cffi>=1.12 in c:\\users\\mashh\\appdata\\local\\programs\\python\\python311\\lib\\site-packages (from cryptography>=3.4.6->scrapy) (1.15.1)\n",
      "Collecting jmespath>=0.9.5\n",
      "  Using cached jmespath-1.0.1-py3-none-any.whl (20 kB)\n",
      "Requirement already satisfied: six in c:\\users\\mashh\\appdata\\roaming\\python\\python311\\site-packages (from protego>=0.1.15->scrapy) (1.16.0)\n",
      "Requirement already satisfied: attrs>=19.1.0 in c:\\users\\mashh\\appdata\\local\\programs\\python\\python311\\lib\\site-packages (from service-identity>=18.1.0->scrapy) (22.2.0)\n",
      "Collecting pyasn1-modules\n",
      "  Using cached pyasn1_modules-0.2.8-py2.py3-none-any.whl (155 kB)\n",
      "Collecting pyasn1\n",
      "  Using cached pyasn1-0.4.8-py2.py3-none-any.whl (77 kB)\n",
      "Collecting constantly>=15.1\n",
      "  Using cached constantly-15.1.0-py2.py3-none-any.whl (7.9 kB)\n",
      "Collecting incremental>=21.3.0\n",
      "  Using cached incremental-22.10.0-py2.py3-none-any.whl (16 kB)\n",
      "Collecting Automat>=0.8.0\n",
      "  Using cached Automat-22.10.0-py2.py3-none-any.whl (26 kB)\n",
      "Collecting hyperlink>=17.1.1\n",
      "  Using cached hyperlink-21.0.0-py2.py3-none-any.whl (74 kB)\n",
      "Requirement already satisfied: typing-extensions>=3.6.5 in c:\\users\\mashh\\appdata\\local\\programs\\python\\python311\\lib\\site-packages (from Twisted>=18.9.0->scrapy) (4.4.0)\n",
      "Collecting twisted-iocpsupport<2,>=1.0.2\n",
      "  Using cached twisted-iocpsupport-1.0.2.tar.gz (10 kB)\n",
      "  Installing build dependencies: started\n",
      "  Installing build dependencies: finished with status 'done'\n",
      "  Getting requirements to build wheel: started\n",
      "  Getting requirements to build wheel: finished with status 'done'\n",
      "  Preparing metadata (pyproject.toml): started\n",
      "  Preparing metadata (pyproject.toml): finished with status 'done'\n",
      "Requirement already satisfied: idna in c:\\users\\mashh\\appdata\\local\\programs\\python\\python311\\lib\\site-packages (from tldextract->scrapy) (3.4)\n",
      "Requirement already satisfied: requests>=2.1.0 in c:\\users\\mashh\\appdata\\local\\programs\\python\\python311\\lib\\site-packages (from tldextract->scrapy) (2.28.1)\n",
      "Requirement already satisfied: requests-file>=1.4 in c:\\users\\mashh\\appdata\\local\\programs\\python\\python311\\lib\\site-packages (from tldextract->scrapy) (1.5.1)\n",
      "Requirement already satisfied: filelock>=3.0.8 in c:\\users\\mashh\\appdata\\local\\programs\\python\\python311\\lib\\site-packages (from tldextract->scrapy) (3.9.0)\n",
      "Requirement already satisfied: pycparser in c:\\users\\mashh\\appdata\\local\\programs\\python\\python311\\lib\\site-packages (from cffi>=1.12->cryptography>=3.4.6->scrapy) (2.21)\n",
      "Requirement already satisfied: charset-normalizer<3,>=2 in c:\\users\\mashh\\appdata\\local\\programs\\python\\python311\\lib\\site-packages (from requests>=2.1.0->tldextract->scrapy) (2.1.1)\n",
      "Requirement already satisfied: urllib3<1.27,>=1.21.1 in c:\\users\\mashh\\appdata\\local\\programs\\python\\python311\\lib\\site-packages (from requests>=2.1.0->tldextract->scrapy) (1.26.13)\n",
      "Requirement already satisfied: certifi>=2017.4.17 in c:\\users\\mashh\\appdata\\local\\programs\\python\\python311\\lib\\site-packages (from requests>=2.1.0->tldextract->scrapy) (2022.12.7)\n",
      "Building wheels for collected packages: twisted-iocpsupport\n",
      "  Building wheel for twisted-iocpsupport (pyproject.toml): started\n",
      "  Building wheel for twisted-iocpsupport (pyproject.toml): finished with status 'error'\n",
      "Failed to build twisted-iocpsupport\n"
     ]
    },
    {
     "name": "stderr",
     "output_type": "stream",
     "text": [
      "  error: subprocess-exited-with-error\n",
      "  \n",
      "  × Building wheel for twisted-iocpsupport (pyproject.toml) did not run successfully.\n",
      "  │ exit code: 1\n",
      "  ╰─> [5 lines of output]\n",
      "      running bdist_wheel\n",
      "      running build\n",
      "      running build_ext\n",
      "      building 'twisted_iocpsupport.iocpsupport' extension\n",
      "      error: Microsoft Visual C++ 14.0 or greater is required. Get it with \"Microsoft C++ Build Tools\": https://visualstudio.microsoft.com/visual-cpp-build-tools/\n",
      "      [end of output]\n",
      "  \n",
      "  note: This error originates from a subprocess, and is likely not a problem with pip.\n",
      "  ERROR: Failed building wheel for twisted-iocpsupport\n",
      "ERROR: Could not build wheels for twisted-iocpsupport, which is required to install pyproject.toml-based projects\n",
      "\n",
      "[notice] A new release of pip is available: 23.0 -> 23.0.1\n",
      "[notice] To update, run: python.exe -m pip install --upgrade pip\n"
     ]
    }
   ],
   "source": [
    "! pip install scrapy\n"
   ]
  },
  {
   "cell_type": "code",
   "execution_count": null,
   "metadata": {},
   "outputs": [],
   "source": []
  },
  {
   "cell_type": "code",
   "execution_count": null,
   "metadata": {},
   "outputs": [],
   "source": []
  },
  {
   "cell_type": "code",
   "execution_count": 3,
   "metadata": {},
   "outputs": [
    {
     "name": "stdout",
     "output_type": "stream",
     "text": [
      "Cursor generated\n",
      "query fetched\n"
     ]
    }
   ],
   "source": [
    "data = db.fetch(conn, 'select * from \"Product\"')"
   ]
  },
  {
   "cell_type": "code",
   "execution_count": 4,
   "metadata": {},
   "outputs": [
    {
     "data": {
      "text/plain": [
       "[]"
      ]
     },
     "execution_count": 4,
     "metadata": {},
     "output_type": "execute_result"
    }
   ],
   "source": [
    "data"
   ]
  },
  {
   "cell_type": "code",
   "execution_count": 7,
   "metadata": {},
   "outputs": [
    {
     "name": "stdout",
     "output_type": "stream",
     "text": [
      "Cursor generated\n",
      "Query Executed.\n",
      "query commited\n"
     ]
    }
   ],
   "source": [
    "db.execute(conn, \"\"\"insert into \"Product\" values (DEFAULT, '{}',  '{}', '{}', '{}', '{}', 'none', '{}', {});\"\"\")"
   ]
  },
  {
   "cell_type": "code",
   "execution_count": 10,
   "metadata": {},
   "outputs": [
    {
     "name": "stdout",
     "output_type": "stream",
     "text": [
      "Cursor generated\n",
      "query fetched\n"
     ]
    },
    {
     "data": {
      "text/plain": [
       "[(2,\n",
       "  'KAJLAJFLAJRO',\n",
       "  'Apple iPhone 14 Pro Max 128GB',\n",
       "  'GOOGLE.COM',\n",
       "  'image.com',\n",
       "  'amazon.in',\n",
       "  'none',\n",
       "  'mobile phone',\n",
       "  61499)]"
      ]
     },
     "execution_count": 10,
     "metadata": {},
     "output_type": "execute_result"
    }
   ],
   "source": [
    "data = db.fetch(conn, 'select * from \"Product\"')\n",
    "data"
   ]
  },
  {
   "cell_type": "code",
   "execution_count": null,
   "metadata": {},
   "outputs": [],
   "source": []
  },
  {
   "cell_type": "code",
   "execution_count": null,
   "metadata": {},
   "outputs": [],
   "source": []
  },
  {
   "cell_type": "code",
   "execution_count": null,
   "metadata": {},
   "outputs": [],
   "source": []
  },
  {
   "cell_type": "code",
   "execution_count": 6,
   "metadata": {},
   "outputs": [
    {
     "name": "stdout",
     "output_type": "stream",
     "text": [
      "Cursor generated\n",
      "query fetched\n"
     ]
    },
    {
     "data": {
      "text/plain": [
       "[(1,\n",
       "  'Apple iPhone 14 Pro Max 128GB',\n",
       "  '17.00 cm (6.7-inch) Super Retina XDR display',\n",
       "  'amazon.in',\n",
       "  'https://m.media-amazon.com/images/I/31qeR3U2bdL._SX342_SY445_.jpg',\n",
       "  'https://www.amazon.in/Apple-iPhone-256GB-Deep-Purple/dp/B0BDK2FB2T/ref=asc_df_B0BDK2FB2T/')]"
      ]
     },
     "execution_count": 6,
     "metadata": {},
     "output_type": "execute_result"
    }
   ],
   "source": [
    "name = \n",
    "link = \n",
    "img_link =\n",
    "website =\n",
    "description =\n",
    "tag =\n",
    "price =\n"
   ]
  }
 ],
 "metadata": {
  "kernelspec": {
   "display_name": "Python 3",
   "language": "python",
   "name": "python3"
  },
  "language_info": {
   "codemirror_mode": {
    "name": "ipython",
    "version": 3
   },
   "file_extension": ".py",
   "mimetype": "text/x-python",
   "name": "python",
   "nbconvert_exporter": "python",
   "pygments_lexer": "ipython3",
   "version": "3.11.1"
  },
  "orig_nbformat": 4,
  "vscode": {
   "interpreter": {
    "hash": "bf48b1595f625e5403ada651875b3c700d0651e19651da6353d8f9b08f287b0c"
   }
  }
 },
 "nbformat": 4,
 "nbformat_minor": 2
}
